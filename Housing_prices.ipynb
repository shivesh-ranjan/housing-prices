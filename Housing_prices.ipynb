{
 "cells": [
  {
   "cell_type": "code",
   "execution_count": 1,
   "id": "86404f38",
   "metadata": {
    "execution": {
     "iopub.execute_input": "2022-02-12T13:20:45.439894Z",
     "iopub.status.busy": "2022-02-12T13:20:45.438674Z",
     "iopub.status.idle": "2022-02-12T13:20:45.478084Z",
     "shell.execute_reply": "2022-02-12T13:20:45.478790Z",
     "shell.execute_reply.started": "2022-02-12T13:10:23.082903Z"
    },
    "papermill": {
     "duration": 0.059478,
     "end_time": "2022-02-12T13:20:45.479125",
     "exception": false,
     "start_time": "2022-02-12T13:20:45.419647",
     "status": "completed"
    },
    "tags": []
   },
   "outputs": [],
   "source": [
    "# Set up code checking\n",
    "from learntools.core import binder\n",
    "binder.bind(globals())\n",
    "from learntools.machine_learning.ex7 import *\n",
    "\n",
    "# Set up filepaths\n",
    "import os\n",
    "if not os.path.exists(\"../input/train.csv\"):\n",
    "    os.symlink(\"../input/home-data-for-ml-course/train.csv\", \"../input/train.csv\")  \n",
    "    os.symlink(\"../input/home-data-for-ml-course/test.csv\", \"../input/test.csv\") "
   ]
  },
  {
   "cell_type": "code",
   "execution_count": 2,
   "id": "e0b5a99c",
   "metadata": {
    "execution": {
     "iopub.execute_input": "2022-02-12T13:20:45.546222Z",
     "iopub.status.busy": "2022-02-12T13:20:45.545552Z",
     "iopub.status.idle": "2022-02-12T13:20:47.352144Z",
     "shell.execute_reply": "2022-02-12T13:20:47.352672Z",
     "shell.execute_reply.started": "2022-02-12T13:11:04.014435Z"
    },
    "papermill": {
     "duration": 1.825911,
     "end_time": "2022-02-12T13:20:47.352900",
     "exception": false,
     "start_time": "2022-02-12T13:20:45.526989",
     "status": "completed"
    },
    "tags": []
   },
   "outputs": [
    {
     "name": "stdout",
     "output_type": "stream",
     "text": [
      "Validation MAE for Random Forest Model: 21,857\n"
     ]
    }
   ],
   "source": [
    "# Import helpful libraries\n",
    "import pandas as pd\n",
    "from sklearn.ensemble import RandomForestRegressor\n",
    "from sklearn.metrics import mean_absolute_error\n",
    "from sklearn.model_selection import train_test_split\n",
    "\n",
    "# Load the data, and separate the target\n",
    "iowa_file_path = '../input/train.csv'\n",
    "home_data = pd.read_csv(iowa_file_path)\n",
    "y = home_data.SalePrice\n",
    "\n",
    "# Create X (After completing the exercise, you can return to modify this line!)\n",
    "features = ['LotArea', 'YearBuilt', '1stFlrSF', '2ndFlrSF', 'FullBath', 'BedroomAbvGr', 'TotRmsAbvGrd']\n",
    "\n",
    "# Select columns corresponding to features, and preview the data\n",
    "X = home_data[features]\n",
    "X.head()\n",
    "\n",
    "# Split into validation and training data\n",
    "train_X, val_X, train_y, val_y = train_test_split(X, y, random_state=1)\n",
    "\n",
    "# Define a random forest model\n",
    "rf_model = RandomForestRegressor(random_state=1)\n",
    "rf_model.fit(train_X, train_y)\n",
    "rf_val_predictions = rf_model.predict(val_X)\n",
    "rf_val_mae = mean_absolute_error(rf_val_predictions, val_y)\n",
    "\n",
    "print(\"Validation MAE for Random Forest Model: {:,.0f}\".format(rf_val_mae))"
   ]
  },
  {
   "cell_type": "code",
   "execution_count": 3,
   "id": "7b19863a",
   "metadata": {
    "execution": {
     "iopub.execute_input": "2022-02-12T13:20:47.429033Z",
     "iopub.status.busy": "2022-02-12T13:20:47.428366Z",
     "iopub.status.idle": "2022-02-12T13:20:48.060601Z",
     "shell.execute_reply": "2022-02-12T13:20:48.061137Z",
     "shell.execute_reply.started": "2022-02-12T13:12:41.651022Z"
    },
    "papermill": {
     "duration": 0.656215,
     "end_time": "2022-02-12T13:20:48.061279",
     "exception": false,
     "start_time": "2022-02-12T13:20:47.405064",
     "status": "completed"
    },
    "tags": []
   },
   "outputs": [
    {
     "data": {
      "text/plain": [
       "RandomForestRegressor(random_state=0)"
      ]
     },
     "execution_count": 3,
     "metadata": {},
     "output_type": "execute_result"
    }
   ],
   "source": [
    "# To improve accuracy, create a new Random Forest model which you will train on all training data\n",
    "rf_model_on_full_data = RandomForestRegressor(random_state=0)\n",
    "\n",
    "# fit rf_model_on_full_data on all data from the training data\n",
    "rf_model_on_full_data.fit(X,y)"
   ]
  },
  {
   "cell_type": "code",
   "execution_count": 4,
   "id": "07a795be",
   "metadata": {
    "execution": {
     "iopub.execute_input": "2022-02-12T13:20:48.110190Z",
     "iopub.status.busy": "2022-02-12T13:20:48.109531Z",
     "iopub.status.idle": "2022-02-12T13:20:48.183906Z",
     "shell.execute_reply": "2022-02-12T13:20:48.184323Z",
     "shell.execute_reply.started": "2022-02-12T13:17:42.169556Z"
    },
    "papermill": {
     "duration": 0.08894,
     "end_time": "2022-02-12T13:20:48.184491",
     "exception": false,
     "start_time": "2022-02-12T13:20:48.095551",
     "status": "completed"
    },
    "tags": []
   },
   "outputs": [],
   "source": [
    "# path to file you will use for predictions\n",
    "test_data_path = '../input/test.csv'\n",
    "\n",
    "# read test data file using pandas\n",
    "test_data = pd.read_csv(test_data_path)\n",
    "\n",
    "# create test_X which comes from test_data but includes only the columns you used for prediction.\n",
    "# The list of columns is stored in a variable called features\n",
    "test_X = test_data[features]\n",
    "\n",
    "# make predictions which we will submit. \n",
    "test_preds = rf_model.predict(test_X)"
   ]
  },
  {
   "cell_type": "code",
   "execution_count": 5,
   "id": "9269b0ea",
   "metadata": {
    "execution": {
     "iopub.execute_input": "2022-02-12T13:20:48.236662Z",
     "iopub.status.busy": "2022-02-12T13:20:48.235956Z",
     "iopub.status.idle": "2022-02-12T13:20:48.240515Z",
     "shell.execute_reply": "2022-02-12T13:20:48.241053Z",
     "shell.execute_reply.started": "2022-02-12T13:17:57.931742Z"
    },
    "papermill": {
     "duration": 0.022062,
     "end_time": "2022-02-12T13:20:48.241199",
     "exception": false,
     "start_time": "2022-02-12T13:20:48.219137",
     "status": "completed"
    },
    "tags": []
   },
   "outputs": [
    {
     "data": {
      "application/javascript": [
       "parent.postMessage({\"jupyterEvent\": \"custom.exercise_interaction\", \"data\": {\"outcomeType\": 1, \"valueTowardsCompletion\": 1.0, \"interactionType\": 1, \"questionType\": 2, \"questionId\": \"1_CheckSubmittablePreds\", \"learnToolsVersion\": \"0.3.4\", \"failureMessage\": \"\", \"exceptionClass\": \"\", \"trace\": \"\"}}, \"*\")"
      ],
      "text/plain": [
       "<IPython.core.display.Javascript object>"
      ]
     },
     "metadata": {},
     "output_type": "display_data"
    },
    {
     "data": {
      "text/markdown": [
       "<span style=\"color:#33cc33\">Correct</span>"
      ],
      "text/plain": [
       "Correct"
      ]
     },
     "metadata": {},
     "output_type": "display_data"
    }
   ],
   "source": [
    "# Check your answer (To get credit for completing the exercise, you must get a \"Correct\" result!)\n",
    "step_1.check()\n",
    "# step_1.solution()"
   ]
  },
  {
   "cell_type": "code",
   "execution_count": 6,
   "id": "492b1536",
   "metadata": {
    "execution": {
     "iopub.execute_input": "2022-02-12T13:20:48.295133Z",
     "iopub.status.busy": "2022-02-12T13:20:48.294467Z",
     "iopub.status.idle": "2022-02-12T13:20:48.305789Z",
     "shell.execute_reply": "2022-02-12T13:20:48.306251Z",
     "shell.execute_reply.started": "2022-02-12T13:18:46.423108Z"
    },
    "papermill": {
     "duration": 0.02752,
     "end_time": "2022-02-12T13:20:48.306412",
     "exception": false,
     "start_time": "2022-02-12T13:20:48.278892",
     "status": "completed"
    },
    "tags": []
   },
   "outputs": [],
   "source": [
    "# Run the code to save predictions in the format used for competition scoring\n",
    "\n",
    "output = pd.DataFrame({'Id': test_data.Id,\n",
    "                       'SalePrice': test_preds})\n",
    "output.to_csv('submission.csv', index=False)"
   ]
  }
 ],
 "metadata": {
  "kernelspec": {
   "display_name": "Python 3 (ipykernel)",
   "language": "python",
   "name": "python3"
  },
  "language_info": {
   "codemirror_mode": {
    "name": "ipython",
    "version": 3
   },
   "file_extension": ".py",
   "mimetype": "text/x-python",
   "name": "python",
   "nbconvert_exporter": "python",
   "pygments_lexer": "ipython3",
   "version": "3.10.1"
  },
  "papermill": {
   "default_parameters": {},
   "duration": 14.887212,
   "end_time": "2022-02-12T13:20:49.380528",
   "environment_variables": {},
   "exception": null,
   "input_path": "__notebook__.ipynb",
   "output_path": "__notebook__.ipynb",
   "parameters": {},
   "start_time": "2022-02-12T13:20:34.493316",
   "version": "2.3.3"
  }
 },
 "nbformat": 4,
 "nbformat_minor": 5
}
